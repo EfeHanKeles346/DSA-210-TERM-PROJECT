{
  "cells": [
    {
      "cell_type": "markdown",
      "metadata": {},
      "source": [
        "# Match Statistics Data Processing\n",
        "\n",
        "This notebook performs essential cleaning and formatting operations on the raw football match dataset. The aim is to ensure the statistical features are numerically valid, consistent in format, and free of missing or malformed entries prior to any modeling or visualization.\n",
        "\n",
        "Key preprocessing tasks include:\n",
        "- Removing incomplete fixtures (missing team names or goal values)\n",
        "- Parsing match dates into proper datetime format\n",
        "- Cleaning percentage columns such as possession and pass accuracy\n",
        "- Converting all statistical fields to numeric types\n",
        "- Replacing any remaining missing values with zero\n",
        "- Exporting the resulting cleaned dataset to `data/clean_matches_stats_only.csv`\n",
        "\n",
        "This processed file provides a robust foundation for downstream analysis in machine learning or statistical modeling.\n"
      ]
    },
    {
      "cell_type": "code",
      "execution_count": null,
      "metadata": {
        "id": "vGRbj7jFBvsX"
      },
      "outputs": [],
      "source": [
        "import pandas as pd\n",
        "\n",
        "# Load the full raw dataset\n",
        "raw_df = pd.read_csv('all_matches_proper_format.csv')\n",
        "\n",
        "# Drop rows with missing team names or goals (incomplete fixtures)\n",
        "raw_df.dropna(subset=['home_team', 'away_team', 'home_goals', 'away_goals'], inplace=True)\n",
        "\n",
        "# Convert date to datetime\n",
        "raw_df['date'] = pd.to_datetime(raw_df['date'])\n",
        "\n",
        "# Remove matches with missing statistics completely\n",
        "stat_columns = [\n",
        "    'home_shots_on_target', 'away_shots_on_target',\n",
        "    'home_shots_total', 'away_shots_total',\n",
        "    'home_possession', 'away_possession',\n",
        "    'home_yellow_cards', 'away_yellow_cards',\n",
        "    'home_red_cards', 'away_red_cards',\n",
        "    'home_passes', 'away_passes',\n",
        "    'home_pass_accuracy', 'away_pass_accuracy'\n",
        "]\n",
        "\n",
        "# Convert percentage columns from string to numeric\n",
        "raw_df['home_possession'] = raw_df['home_possession'].str.replace('%', '', regex=False).astype(float)\n",
        "raw_df['away_possession'] = raw_df['away_possession'].str.replace('%', '', regex=False).astype(float)\n",
        "raw_df['home_pass_accuracy'] = raw_df['home_pass_accuracy'].str.replace('%', '', regex=False).astype(float)\n",
        "raw_df['away_pass_accuracy'] = raw_df['away_pass_accuracy'].str.replace('%', '', regex=False).astype(float)\n",
        "\n",
        "# Fill missing values in other stats with 0\n",
        "for col in stat_columns:\n",
        "    raw_df[col] = pd.to_numeric(raw_df[col], errors='coerce').fillna(0)\n",
        "\n",
        "# Save cleaned dataset\n",
        "clean_path = 'data/clean_matches_stats_only.csv'\n",
        "raw_df.to_csv(clean_path, index=False)\n",
        "\n",
        "print(f\"Cleaned data saved to: {clean_path}\")\n"
      ]
    },
    {
      "cell_type": "code",
      "execution_count": null,
      "metadata": {
        "id": "QNlHxF_VCsoA"
      },
      "outputs": [],
      "source": [
        "from google.colab import files\n",
        "files.download('data/clean_matches_stats_only.csv')\n"
      ]
    }
  ],
  "metadata": {
    "colab": {
      "provenance": []
    },
    "kernelspec": {
      "display_name": "Python 3",
      "name": "python3"
    },
    "language_info": {
      "name": "python"
    }
  },
  "nbformat": 4,
  "nbformat_minor": 0
}
